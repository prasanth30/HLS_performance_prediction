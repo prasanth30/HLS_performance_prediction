{
 "cells": [
  {
   "cell_type": "code",
   "execution_count": 1,
   "metadata": {},
   "outputs": [],
   "source": [
    "%load_ext autoreload\n",
    "%autoreload 2"
   ]
  },
  {
   "cell_type": "code",
   "execution_count": 2,
   "metadata": {},
   "outputs": [],
   "source": [
    "import torch"
   ]
  },
  {
   "cell_type": "code",
   "execution_count": 3,
   "metadata": {},
   "outputs": [],
   "source": [
    "class model_CFG:\n",
    "    # Embedding\n",
    "    key_embed_size = 512\n",
    "    val_embed_size = 256\n",
    "    embed_size = 768 # Scale By Value\n",
    "    # Encoder\n",
    "    dim_input = 768\n",
    "    n_heads = 8\n",
    "    hidden_size = 512\n",
    "    num_inds = 32\n",
    "    num_outputs = 7\n",
    "    n_class = 1\n",
    "    ln=False\n",
    "    # Training\n",
    "    lr = 1e-5\n",
    "    n_epochs = 5\n",
    "    device = 'cuda:0' if torch.cuda.is_available() else 'cpu'\n",
    "    regression_weight = 1.0"
   ]
  },
  {
   "cell_type": "code",
   "execution_count": 6,
   "metadata": {},
   "outputs": [],
   "source": [
    "import pandas as pd\n",
    "import numpy as np\n",
    "import matplotlib.pyplot as plt\n",
    "\n",
    "import os\n",
    "import sys\n",
    "import json\n",
    "import rich\n",
    "import math\n",
    "import torch\n",
    "import torch.nn as nn\n",
    "from torch.utils.data import Dataset, DataLoader\n",
    "\n",
    "from get_data import train_dataset, test_dataset\n",
    "from utils import collate_fn_train, collate_fn_test\n",
    "import networkx as nx\n",
    "from collections import Counter\n",
    "from tqdm import tqdm\n",
    "\n",
    "sys.path.append('/home/karakanaidu/experiment/chip/Code/Models/Set_Transformer/set_transformer')\n",
    "from modules import MAB, SAB, ISAB, PMA"
   ]
  },
  {
   "cell_type": "code",
   "execution_count": 7,
   "metadata": {},
   "outputs": [],
   "source": [
    "class pragmas:\n",
    "    pragmas = ['__PARA__L0', '__PARA__L0_0', \n",
    "               '__PARA__L0_1', '__PARA__L0_1_0', \n",
    "               '__PARA__L0_2', '__PARA__L0_2_0', \n",
    "               '__PARA__L0_3', '__PARA__L0_3_0', \n",
    "               '__PARA__L1', '__PARA__L2', '__PARA__L3', '__PARA__L4', '__PARA__L5', '__PARA__L6', \n",
    "               '__PARA__L7', '__PARA__L7_0', \n",
    "               '__PARA__L8', \n",
    "               '__PIPE__L0', '__PIPE__L0_1', '__PIPE__L0_2', '__PIPE__L0_3', \n",
    "               '__PIPE__L1', '__PIPE__L2', '__PIPE__L3', '__PIPE__L4', '__PIPE__L5', '__PIPE__L7', \n",
    "               '__TILE__L0', '__TILE__L0_1', '__TILE__L0_2', '__TILE__L0_3', \n",
    "               '__TILE__L1', '__TILE__L2', '__TILE__L3', '__TILE__L4', '__TILE__L5']\n",
    "    categorical_space = [\n",
    "                '__PIPE__L0','__PIPE__L1','__PIPE__L2','__PIPE__L3',\n",
    "                '__PIPE__L0_1','__PIPE__L0_2','__PIPE__L0_3',\n",
    "                '__PIPE__L4','__PIPE__L5','__PIPE__L7',\n",
    "    ]\n",
    "    integer_space = [\n",
    "                '__PARA__L0', \n",
    "                '__PARA__L0_0', '__PARA__L0_1', '__PARA__L0_1_0', \n",
    "                '__PARA__L0_2', '__PARA__L0_2_0', '__PARA__L0_3', '__PARA__L0_3_0', \n",
    "                '__PARA__L1', '__PARA__L2', '__PARA__L3', '__PARA__L4', '__PARA__L5', '__PARA__L6', '__PARA__L7', \n",
    "                '__PARA__L7_0', '__PARA__L8', \n",
    "                '__TILE__L0', '__TILE__L0_1', '__TILE__L0_2', '__TILE__L0_3', \n",
    "                '__TILE__L1', '__TILE__L2', '__TILE__L3', '__TILE__L4', '__TILE__L5'\n",
    "    ]"
   ]
  },
  {
   "cell_type": "code",
   "execution_count": 8,
   "metadata": {},
   "outputs": [
    {
     "ename": "FileNotFoundError",
     "evalue": "[Errno 2] No such file or directory: './../../Data/train_data/data/designs/v18'",
     "output_type": "error",
     "traceback": [
      "\u001b[0;31m---------------------------------------------------------------------------\u001b[0m",
      "\u001b[0;31mFileNotFoundError\u001b[0m                         Traceback (most recent call last)",
      "Cell \u001b[0;32mIn[8], line 1\u001b[0m\n\u001b[0;32m----> 1\u001b[0m train_ds \u001b[38;5;241m=\u001b[39m \u001b[43mtrain_dataset\u001b[49m\u001b[43m(\u001b[49m\u001b[43msplit\u001b[49m\u001b[38;5;241;43m=\u001b[39;49m\u001b[38;5;124;43m'\u001b[39;49m\u001b[38;5;124;43mtrain\u001b[39;49m\u001b[38;5;124;43m'\u001b[39;49m\u001b[43m)\u001b[49m\n\u001b[1;32m      2\u001b[0m val_ds \u001b[38;5;241m=\u001b[39m train_dataset(split\u001b[38;5;241m=\u001b[39m\u001b[38;5;124m'\u001b[39m\u001b[38;5;124mval\u001b[39m\u001b[38;5;124m'\u001b[39m)\n\u001b[1;32m      3\u001b[0m test_ds \u001b[38;5;241m=\u001b[39m test_dataset()\n",
      "File \u001b[0;32m~/experiment/chip/Code/get_data.py:40\u001b[0m, in \u001b[0;36mtrain_dataset.__init__\u001b[0;34m(self, versions, split, test_size, random_state, filter)\u001b[0m\n\u001b[1;32m     37\u001b[0m \u001b[38;5;28mself\u001b[39m\u001b[38;5;241m.\u001b[39mrandom_state \u001b[38;5;241m=\u001b[39m random_state  \u001b[38;5;66;03m# Seed for reproducibility\u001b[39;00m\n\u001b[1;32m     38\u001b[0m \u001b[38;5;28mself\u001b[39m\u001b[38;5;241m.\u001b[39mfilter\u001b[38;5;241m=\u001b[39m\u001b[38;5;28mfilter\u001b[39m\n\u001b[0;32m---> 40\u001b[0m \u001b[38;5;28;43mself\u001b[39;49m\u001b[38;5;241;43m.\u001b[39;49m\u001b[43mgenerate_array\u001b[49m\u001b[43m(\u001b[49m\u001b[43m)\u001b[49m\n",
      "File \u001b[0;32m~/experiment/chip/Code/get_data.py:70\u001b[0m, in \u001b[0;36mtrain_dataset.generate_array\u001b[0;34m(self)\u001b[0m\n\u001b[1;32m     68\u001b[0m \u001b[38;5;28;01mfor\u001b[39;00m version \u001b[38;5;129;01min\u001b[39;00m \u001b[38;5;28mself\u001b[39m\u001b[38;5;241m.\u001b[39mversions:\n\u001b[1;32m     69\u001b[0m     design_path \u001b[38;5;241m=\u001b[39m os\u001b[38;5;241m.\u001b[39mpath\u001b[38;5;241m.\u001b[39mjoin(base_path, \u001b[38;5;124m\"\u001b[39m\u001b[38;5;124mtrain_data\u001b[39m\u001b[38;5;124m\"\u001b[39m, \u001b[38;5;124m\"\u001b[39m\u001b[38;5;124mdata\u001b[39m\u001b[38;5;124m\"\u001b[39m, \u001b[38;5;124m\"\u001b[39m\u001b[38;5;124mdesigns\u001b[39m\u001b[38;5;124m\"\u001b[39m, \u001b[38;5;124mf\u001b[39m\u001b[38;5;124m\"\u001b[39m\u001b[38;5;132;01m{\u001b[39;00mversion\u001b[38;5;132;01m}\u001b[39;00m\u001b[38;5;124m\"\u001b[39m)\n\u001b[0;32m---> 70\u001b[0m     \u001b[38;5;28;01mfor\u001b[39;00m fname \u001b[38;5;129;01min\u001b[39;00m \u001b[43mos\u001b[49m\u001b[38;5;241;43m.\u001b[39;49m\u001b[43mlistdir\u001b[49m\u001b[43m(\u001b[49m\u001b[43mdesign_path\u001b[49m\u001b[43m)\u001b[49m:\n\u001b[1;32m     71\u001b[0m         \u001b[38;5;28;01mif\u001b[39;00m \u001b[38;5;124m'\u001b[39m\u001b[38;5;124mjson\u001b[39m\u001b[38;5;124m'\u001b[39m \u001b[38;5;129;01mnot\u001b[39;00m \u001b[38;5;129;01min\u001b[39;00m fname:\n\u001b[1;32m     72\u001b[0m             \u001b[38;5;28;01mcontinue\u001b[39;00m\n",
      "\u001b[0;31mFileNotFoundError\u001b[0m: [Errno 2] No such file or directory: './../../Data/train_data/data/designs/v18'"
     ]
    }
   ],
   "source": [
    "train_ds = train_dataset(split='train')\n",
    "val_ds = train_dataset(split='val')\n",
    "test_ds = test_dataset()"
   ]
  },
  {
   "cell_type": "code",
   "execution_count": 49,
   "metadata": {},
   "outputs": [],
   "source": [
    "train_dataloader = DataLoader(train_ds, batch_size=1, collate_fn = collate_fn_train)\n",
    "val_dataloader = DataLoader(val_ds, batch_size=1, shuffle=True, collate_fn = collate_fn_train)\n",
    "test_dataloader = DataLoader(test_ds, batch_size=1, shuffle=False, collate_fn = collate_fn_test)"
   ]
  },
  {
   "cell_type": "code",
   "execution_count": 54,
   "metadata": {},
   "outputs": [],
   "source": [
    "class set_transformer(nn.Module):\n",
    "    def __init__(self):\n",
    "        super(set_transformer, self).__init__()\n",
    "        self.enc = nn.Sequential(\n",
    "                        SAB(model_CFG.dim_input,   model_CFG.hidden_size, model_CFG.n_heads, ln=model_CFG.ln),\n",
    "                        SAB(model_CFG.hidden_size, model_CFG.hidden_size, model_CFG.n_heads, ln=model_CFG.ln),\n",
    "                        # SAB(model_CFG.hidden_size, model_CFG.hidden_size, model_CFG.n_heads, ln=model_CFG.ln),\n",
    "                    )\n",
    "        self.dec = nn.Sequential(\n",
    "                        PMA(model_CFG.hidden_size, model_CFG.n_heads, model_CFG.num_outputs, ln=model_CFG.ln),\n",
    "                        # SAB(model_CFG.hidden_size, model_CFG.hidden_size, model_CFG.n_heads, ln=model_CFG.ln),\n",
    "                        # SAB(hidden_size, hidden_size, num_heads, ln=ln),\n",
    "                        nn.Linear(model_CFG.hidden_size, model_CFG.n_class)\n",
    "                    )\n",
    "\n",
    "        self.enc = self.enc.to(device=model_CFG.device)\n",
    "        self.dec = self.dec.to(device=model_CFG.device)\n",
    "        \n",
    "        no_of_embeddings = len(pragmas.categorical_space*3 + pragmas.integer_space)\n",
    "        \n",
    "        cat_table = {f'{label}_{value}' : self.kaiming_init_embedding(model_CFG.embed_size) for label in pragmas.categorical_space for value in ['','off','flatten']}\n",
    "        \n",
    "        reg_table = {label : self.kaiming_init_embedding(model_CFG.key_embed_size) for label in pragmas.integer_space}\n",
    "        self.reg_value_encoder = nn.ModuleDict({label : nn.Linear(1,model_CFG.val_embed_size) for label in pragmas.integer_space})\n",
    "        \n",
    "        self.embeddings = nn.ParameterDict(cat_table | reg_table)\n",
    "        \n",
    "        for param in self.parameters():\n",
    "            param.requires_grad = True\n",
    "    def kaiming_init_embedding(self, size):\n",
    "        embedding = torch.empty((size,1), requires_grad=True,device=model_CFG.device)\n",
    "        nn.init.kaiming_uniform_(embedding, a=math.sqrt(5))  # or use kaiming_normal_\n",
    "        return embedding\n",
    "\n",
    "    def forward(self,X):\n",
    "        embeddings = []\n",
    "        for key,item in X.items():\n",
    "            # try:\n",
    "                if key in pragmas.categorical_space and item in ['off','flatten','']:\n",
    "                    embeddings.append(self.embeddings[f'{key}_{item}'])\n",
    "                    \n",
    "                elif key in pragmas.integer_space:\n",
    "                    value_embedding = self.reg_value_encoder[key](torch.tensor(item,dtype=torch.float32,device=model_CFG.device).reshape(1,1))\n",
    "\n",
    "                    embeddings.append(\n",
    "                        torch.vstack([self.embeddings[key],value_embedding.reshape(-1,1)])\n",
    "                    )\n",
    "                    \n",
    "                else:\n",
    "                    print(f\"Unknown Target {key} value: {item}\")\n",
    "                    raise f\"Unknown Target {key} value: {item}\"\n",
    "                    \n",
    "            # except Exception as ex:\n",
    "            #     print(ex)\n",
    "            #     print(f\"Unknown Target {key} value: {item}\")\n",
    "# #                 raise f\"Unknown Target {key} value: {item}\"\n",
    "\n",
    "        embeddings = torch.stack(embeddings,dim=0).reshape(1,-1,model_CFG.embed_size).to(device=model_CFG.device)\n",
    "        enc_out = self.enc(embeddings)\n",
    "        dec_out = self.dec(enc_out)\n",
    "\n",
    "        pred = torch.squeeze(dec_out, 0)\n",
    "        pred = pred.reshape(-1)\n",
    "        return pred"
   ]
  },
  {
   "cell_type": "code",
   "execution_count": 61,
   "metadata": {},
   "outputs": [
    {
     "name": "stdout",
     "output_type": "stream",
     "text": [
      "Training on 0\n"
     ]
    },
    {
     "name": "stderr",
     "output_type": "stream",
     "text": [
      "Training Loop:   0%|          | 1/33276 [00:00<1:10:35,  7.86it/s]"
     ]
    },
    {
     "name": "stderr",
     "output_type": "stream",
     "text": [
      "Training Loop:  76%|███████▌  | 25370/33276 [08:32<02:39, 49.53it/s]\n"
     ]
    },
    {
     "ename": "KeyboardInterrupt",
     "evalue": "",
     "output_type": "error",
     "traceback": [
      "\u001b[0;31m---------------------------------------------------------------------------\u001b[0m",
      "\u001b[0;31mKeyboardInterrupt\u001b[0m                         Traceback (most recent call last)",
      "Cell \u001b[0;32mIn[61], line 18\u001b[0m\n\u001b[1;32m     15\u001b[0m batch_x \u001b[38;5;241m=\u001b[39m batch[\u001b[38;5;124m'\u001b[39m\u001b[38;5;124mX\u001b[39m\u001b[38;5;124m'\u001b[39m][\u001b[38;5;241m0\u001b[39m]\n\u001b[1;32m     16\u001b[0m batch_y \u001b[38;5;241m=\u001b[39m batch[\u001b[38;5;124m'\u001b[39m\u001b[38;5;124my\u001b[39m\u001b[38;5;124m'\u001b[39m][\u001b[38;5;241m0\u001b[39m]\n\u001b[0;32m---> 18\u001b[0m ypred \u001b[38;5;241m=\u001b[39m \u001b[43mmodel\u001b[49m\u001b[43m(\u001b[49m\u001b[43mbatch_x\u001b[49m\u001b[43m)\u001b[49m\n\u001b[1;32m     19\u001b[0m target_classification \u001b[38;5;241m=\u001b[39m torch\u001b[38;5;241m.\u001b[39mtensor(batch_y[\u001b[38;5;124m'\u001b[39m\u001b[38;5;124mvalid\u001b[39m\u001b[38;5;124m'\u001b[39m],dtype\u001b[38;5;241m=\u001b[39mtorch\u001b[38;5;241m.\u001b[39mint64,device\u001b[38;5;241m=\u001b[39mmodel_CFG\u001b[38;5;241m.\u001b[39mdevice)\n\u001b[1;32m     20\u001b[0m target_ls \u001b[38;5;241m=\u001b[39m [torch\u001b[38;5;241m.\u001b[39mtensor(v,dtype\u001b[38;5;241m=\u001b[39mtorch\u001b[38;5;241m.\u001b[39mfloat32) \u001b[38;5;28;01mfor\u001b[39;00m k,v \u001b[38;5;129;01min\u001b[39;00m batch_y\u001b[38;5;241m.\u001b[39mitems() \u001b[38;5;28;01mif\u001b[39;00m k\u001b[38;5;241m!=\u001b[39m\u001b[38;5;124m'\u001b[39m\u001b[38;5;124mvalid\u001b[39m\u001b[38;5;124m'\u001b[39m]\n",
      "File \u001b[0;32m~/conda/lib/python3.12/site-packages/torch/nn/modules/module.py:1553\u001b[0m, in \u001b[0;36mModule._wrapped_call_impl\u001b[0;34m(self, *args, **kwargs)\u001b[0m\n\u001b[1;32m   1551\u001b[0m     \u001b[38;5;28;01mreturn\u001b[39;00m \u001b[38;5;28mself\u001b[39m\u001b[38;5;241m.\u001b[39m_compiled_call_impl(\u001b[38;5;241m*\u001b[39margs, \u001b[38;5;241m*\u001b[39m\u001b[38;5;241m*\u001b[39mkwargs)  \u001b[38;5;66;03m# type: ignore[misc]\u001b[39;00m\n\u001b[1;32m   1552\u001b[0m \u001b[38;5;28;01melse\u001b[39;00m:\n\u001b[0;32m-> 1553\u001b[0m     \u001b[38;5;28;01mreturn\u001b[39;00m \u001b[38;5;28;43mself\u001b[39;49m\u001b[38;5;241;43m.\u001b[39;49m\u001b[43m_call_impl\u001b[49m\u001b[43m(\u001b[49m\u001b[38;5;241;43m*\u001b[39;49m\u001b[43margs\u001b[49m\u001b[43m,\u001b[49m\u001b[43m \u001b[49m\u001b[38;5;241;43m*\u001b[39;49m\u001b[38;5;241;43m*\u001b[39;49m\u001b[43mkwargs\u001b[49m\u001b[43m)\u001b[49m\n",
      "File \u001b[0;32m~/conda/lib/python3.12/site-packages/torch/nn/modules/module.py:1562\u001b[0m, in \u001b[0;36mModule._call_impl\u001b[0;34m(self, *args, **kwargs)\u001b[0m\n\u001b[1;32m   1557\u001b[0m \u001b[38;5;66;03m# If we don't have any hooks, we want to skip the rest of the logic in\u001b[39;00m\n\u001b[1;32m   1558\u001b[0m \u001b[38;5;66;03m# this function, and just call forward.\u001b[39;00m\n\u001b[1;32m   1559\u001b[0m \u001b[38;5;28;01mif\u001b[39;00m \u001b[38;5;129;01mnot\u001b[39;00m (\u001b[38;5;28mself\u001b[39m\u001b[38;5;241m.\u001b[39m_backward_hooks \u001b[38;5;129;01mor\u001b[39;00m \u001b[38;5;28mself\u001b[39m\u001b[38;5;241m.\u001b[39m_backward_pre_hooks \u001b[38;5;129;01mor\u001b[39;00m \u001b[38;5;28mself\u001b[39m\u001b[38;5;241m.\u001b[39m_forward_hooks \u001b[38;5;129;01mor\u001b[39;00m \u001b[38;5;28mself\u001b[39m\u001b[38;5;241m.\u001b[39m_forward_pre_hooks\n\u001b[1;32m   1560\u001b[0m         \u001b[38;5;129;01mor\u001b[39;00m _global_backward_pre_hooks \u001b[38;5;129;01mor\u001b[39;00m _global_backward_hooks\n\u001b[1;32m   1561\u001b[0m         \u001b[38;5;129;01mor\u001b[39;00m _global_forward_hooks \u001b[38;5;129;01mor\u001b[39;00m _global_forward_pre_hooks):\n\u001b[0;32m-> 1562\u001b[0m     \u001b[38;5;28;01mreturn\u001b[39;00m \u001b[43mforward_call\u001b[49m\u001b[43m(\u001b[49m\u001b[38;5;241;43m*\u001b[39;49m\u001b[43margs\u001b[49m\u001b[43m,\u001b[49m\u001b[43m \u001b[49m\u001b[38;5;241;43m*\u001b[39;49m\u001b[38;5;241;43m*\u001b[39;49m\u001b[43mkwargs\u001b[49m\u001b[43m)\u001b[49m\n\u001b[1;32m   1564\u001b[0m \u001b[38;5;28;01mtry\u001b[39;00m:\n\u001b[1;32m   1565\u001b[0m     result \u001b[38;5;241m=\u001b[39m \u001b[38;5;28;01mNone\u001b[39;00m\n",
      "Cell \u001b[0;32mIn[54], line 59\u001b[0m, in \u001b[0;36mset_transformer.forward\u001b[0;34m(self, X)\u001b[0m\n\u001b[1;32m     53\u001b[0m             \u001b[38;5;66;03m# except Exception as ex:\u001b[39;00m\n\u001b[1;32m     54\u001b[0m             \u001b[38;5;66;03m#     print(ex)\u001b[39;00m\n\u001b[1;32m     55\u001b[0m             \u001b[38;5;66;03m#     print(f\"Unknown Target {key} value: {item}\")\u001b[39;00m\n\u001b[1;32m     56\u001b[0m \u001b[38;5;66;03m# #                 raise f\"Unknown Target {key} value: {item}\"\u001b[39;00m\n\u001b[1;32m     58\u001b[0m         embeddings \u001b[38;5;241m=\u001b[39m torch\u001b[38;5;241m.\u001b[39mstack(embeddings,dim\u001b[38;5;241m=\u001b[39m\u001b[38;5;241m0\u001b[39m)\u001b[38;5;241m.\u001b[39mreshape(\u001b[38;5;241m1\u001b[39m,\u001b[38;5;241m-\u001b[39m\u001b[38;5;241m1\u001b[39m,model_CFG\u001b[38;5;241m.\u001b[39membed_size)\u001b[38;5;241m.\u001b[39mto(device\u001b[38;5;241m=\u001b[39mmodel_CFG\u001b[38;5;241m.\u001b[39mdevice)\n\u001b[0;32m---> 59\u001b[0m         enc_out \u001b[38;5;241m=\u001b[39m \u001b[38;5;28;43mself\u001b[39;49m\u001b[38;5;241;43m.\u001b[39;49m\u001b[43menc\u001b[49m\u001b[43m(\u001b[49m\u001b[43membeddings\u001b[49m\u001b[43m)\u001b[49m\n\u001b[1;32m     60\u001b[0m         dec_out \u001b[38;5;241m=\u001b[39m \u001b[38;5;28mself\u001b[39m\u001b[38;5;241m.\u001b[39mdec(enc_out)\n\u001b[1;32m     62\u001b[0m         pred \u001b[38;5;241m=\u001b[39m torch\u001b[38;5;241m.\u001b[39msqueeze(dec_out, \u001b[38;5;241m0\u001b[39m)\n",
      "File \u001b[0;32m~/conda/lib/python3.12/site-packages/torch/nn/modules/module.py:1553\u001b[0m, in \u001b[0;36mModule._wrapped_call_impl\u001b[0;34m(self, *args, **kwargs)\u001b[0m\n\u001b[1;32m   1551\u001b[0m     \u001b[38;5;28;01mreturn\u001b[39;00m \u001b[38;5;28mself\u001b[39m\u001b[38;5;241m.\u001b[39m_compiled_call_impl(\u001b[38;5;241m*\u001b[39margs, \u001b[38;5;241m*\u001b[39m\u001b[38;5;241m*\u001b[39mkwargs)  \u001b[38;5;66;03m# type: ignore[misc]\u001b[39;00m\n\u001b[1;32m   1552\u001b[0m \u001b[38;5;28;01melse\u001b[39;00m:\n\u001b[0;32m-> 1553\u001b[0m     \u001b[38;5;28;01mreturn\u001b[39;00m \u001b[38;5;28;43mself\u001b[39;49m\u001b[38;5;241;43m.\u001b[39;49m\u001b[43m_call_impl\u001b[49m\u001b[43m(\u001b[49m\u001b[38;5;241;43m*\u001b[39;49m\u001b[43margs\u001b[49m\u001b[43m,\u001b[49m\u001b[43m \u001b[49m\u001b[38;5;241;43m*\u001b[39;49m\u001b[38;5;241;43m*\u001b[39;49m\u001b[43mkwargs\u001b[49m\u001b[43m)\u001b[49m\n",
      "File \u001b[0;32m~/conda/lib/python3.12/site-packages/torch/nn/modules/module.py:1562\u001b[0m, in \u001b[0;36mModule._call_impl\u001b[0;34m(self, *args, **kwargs)\u001b[0m\n\u001b[1;32m   1557\u001b[0m \u001b[38;5;66;03m# If we don't have any hooks, we want to skip the rest of the logic in\u001b[39;00m\n\u001b[1;32m   1558\u001b[0m \u001b[38;5;66;03m# this function, and just call forward.\u001b[39;00m\n\u001b[1;32m   1559\u001b[0m \u001b[38;5;28;01mif\u001b[39;00m \u001b[38;5;129;01mnot\u001b[39;00m (\u001b[38;5;28mself\u001b[39m\u001b[38;5;241m.\u001b[39m_backward_hooks \u001b[38;5;129;01mor\u001b[39;00m \u001b[38;5;28mself\u001b[39m\u001b[38;5;241m.\u001b[39m_backward_pre_hooks \u001b[38;5;129;01mor\u001b[39;00m \u001b[38;5;28mself\u001b[39m\u001b[38;5;241m.\u001b[39m_forward_hooks \u001b[38;5;129;01mor\u001b[39;00m \u001b[38;5;28mself\u001b[39m\u001b[38;5;241m.\u001b[39m_forward_pre_hooks\n\u001b[1;32m   1560\u001b[0m         \u001b[38;5;129;01mor\u001b[39;00m _global_backward_pre_hooks \u001b[38;5;129;01mor\u001b[39;00m _global_backward_hooks\n\u001b[1;32m   1561\u001b[0m         \u001b[38;5;129;01mor\u001b[39;00m _global_forward_hooks \u001b[38;5;129;01mor\u001b[39;00m _global_forward_pre_hooks):\n\u001b[0;32m-> 1562\u001b[0m     \u001b[38;5;28;01mreturn\u001b[39;00m \u001b[43mforward_call\u001b[49m\u001b[43m(\u001b[49m\u001b[38;5;241;43m*\u001b[39;49m\u001b[43margs\u001b[49m\u001b[43m,\u001b[49m\u001b[43m \u001b[49m\u001b[38;5;241;43m*\u001b[39;49m\u001b[38;5;241;43m*\u001b[39;49m\u001b[43mkwargs\u001b[49m\u001b[43m)\u001b[49m\n\u001b[1;32m   1564\u001b[0m \u001b[38;5;28;01mtry\u001b[39;00m:\n\u001b[1;32m   1565\u001b[0m     result \u001b[38;5;241m=\u001b[39m \u001b[38;5;28;01mNone\u001b[39;00m\n",
      "File \u001b[0;32m~/conda/lib/python3.12/site-packages/torch/nn/modules/container.py:219\u001b[0m, in \u001b[0;36mSequential.forward\u001b[0;34m(self, input)\u001b[0m\n\u001b[1;32m    217\u001b[0m \u001b[38;5;28;01mdef\u001b[39;00m \u001b[38;5;21mforward\u001b[39m(\u001b[38;5;28mself\u001b[39m, \u001b[38;5;28minput\u001b[39m):\n\u001b[1;32m    218\u001b[0m     \u001b[38;5;28;01mfor\u001b[39;00m module \u001b[38;5;129;01min\u001b[39;00m \u001b[38;5;28mself\u001b[39m:\n\u001b[0;32m--> 219\u001b[0m         \u001b[38;5;28minput\u001b[39m \u001b[38;5;241m=\u001b[39m \u001b[43mmodule\u001b[49m\u001b[43m(\u001b[49m\u001b[38;5;28;43minput\u001b[39;49m\u001b[43m)\u001b[49m\n\u001b[1;32m    220\u001b[0m     \u001b[38;5;28;01mreturn\u001b[39;00m \u001b[38;5;28minput\u001b[39m\n",
      "File \u001b[0;32m~/conda/lib/python3.12/site-packages/torch/nn/modules/module.py:1553\u001b[0m, in \u001b[0;36mModule._wrapped_call_impl\u001b[0;34m(self, *args, **kwargs)\u001b[0m\n\u001b[1;32m   1551\u001b[0m     \u001b[38;5;28;01mreturn\u001b[39;00m \u001b[38;5;28mself\u001b[39m\u001b[38;5;241m.\u001b[39m_compiled_call_impl(\u001b[38;5;241m*\u001b[39margs, \u001b[38;5;241m*\u001b[39m\u001b[38;5;241m*\u001b[39mkwargs)  \u001b[38;5;66;03m# type: ignore[misc]\u001b[39;00m\n\u001b[1;32m   1552\u001b[0m \u001b[38;5;28;01melse\u001b[39;00m:\n\u001b[0;32m-> 1553\u001b[0m     \u001b[38;5;28;01mreturn\u001b[39;00m \u001b[38;5;28;43mself\u001b[39;49m\u001b[38;5;241;43m.\u001b[39;49m\u001b[43m_call_impl\u001b[49m\u001b[43m(\u001b[49m\u001b[38;5;241;43m*\u001b[39;49m\u001b[43margs\u001b[49m\u001b[43m,\u001b[49m\u001b[43m \u001b[49m\u001b[38;5;241;43m*\u001b[39;49m\u001b[38;5;241;43m*\u001b[39;49m\u001b[43mkwargs\u001b[49m\u001b[43m)\u001b[49m\n",
      "File \u001b[0;32m~/conda/lib/python3.12/site-packages/torch/nn/modules/module.py:1562\u001b[0m, in \u001b[0;36mModule._call_impl\u001b[0;34m(self, *args, **kwargs)\u001b[0m\n\u001b[1;32m   1557\u001b[0m \u001b[38;5;66;03m# If we don't have any hooks, we want to skip the rest of the logic in\u001b[39;00m\n\u001b[1;32m   1558\u001b[0m \u001b[38;5;66;03m# this function, and just call forward.\u001b[39;00m\n\u001b[1;32m   1559\u001b[0m \u001b[38;5;28;01mif\u001b[39;00m \u001b[38;5;129;01mnot\u001b[39;00m (\u001b[38;5;28mself\u001b[39m\u001b[38;5;241m.\u001b[39m_backward_hooks \u001b[38;5;129;01mor\u001b[39;00m \u001b[38;5;28mself\u001b[39m\u001b[38;5;241m.\u001b[39m_backward_pre_hooks \u001b[38;5;129;01mor\u001b[39;00m \u001b[38;5;28mself\u001b[39m\u001b[38;5;241m.\u001b[39m_forward_hooks \u001b[38;5;129;01mor\u001b[39;00m \u001b[38;5;28mself\u001b[39m\u001b[38;5;241m.\u001b[39m_forward_pre_hooks\n\u001b[1;32m   1560\u001b[0m         \u001b[38;5;129;01mor\u001b[39;00m _global_backward_pre_hooks \u001b[38;5;129;01mor\u001b[39;00m _global_backward_hooks\n\u001b[1;32m   1561\u001b[0m         \u001b[38;5;129;01mor\u001b[39;00m _global_forward_hooks \u001b[38;5;129;01mor\u001b[39;00m _global_forward_pre_hooks):\n\u001b[0;32m-> 1562\u001b[0m     \u001b[38;5;28;01mreturn\u001b[39;00m \u001b[43mforward_call\u001b[49m\u001b[43m(\u001b[49m\u001b[38;5;241;43m*\u001b[39;49m\u001b[43margs\u001b[49m\u001b[43m,\u001b[49m\u001b[43m \u001b[49m\u001b[38;5;241;43m*\u001b[39;49m\u001b[38;5;241;43m*\u001b[39;49m\u001b[43mkwargs\u001b[49m\u001b[43m)\u001b[49m\n\u001b[1;32m   1564\u001b[0m \u001b[38;5;28;01mtry\u001b[39;00m:\n\u001b[1;32m   1565\u001b[0m     result \u001b[38;5;241m=\u001b[39m \u001b[38;5;28;01mNone\u001b[39;00m\n",
      "File \u001b[0;32m~/gitrepo/set_transformer/modules.py:41\u001b[0m, in \u001b[0;36mSAB.forward\u001b[0;34m(self, X)\u001b[0m\n\u001b[1;32m     40\u001b[0m \u001b[38;5;28;01mdef\u001b[39;00m \u001b[38;5;21mforward\u001b[39m(\u001b[38;5;28mself\u001b[39m, X):\n\u001b[0;32m---> 41\u001b[0m     \u001b[38;5;28;01mreturn\u001b[39;00m \u001b[38;5;28;43mself\u001b[39;49m\u001b[38;5;241;43m.\u001b[39;49m\u001b[43mmab\u001b[49m\u001b[43m(\u001b[49m\u001b[43mX\u001b[49m\u001b[43m,\u001b[49m\u001b[43m \u001b[49m\u001b[43mX\u001b[49m\u001b[43m)\u001b[49m\n",
      "File \u001b[0;32m~/conda/lib/python3.12/site-packages/torch/nn/modules/module.py:1553\u001b[0m, in \u001b[0;36mModule._wrapped_call_impl\u001b[0;34m(self, *args, **kwargs)\u001b[0m\n\u001b[1;32m   1551\u001b[0m     \u001b[38;5;28;01mreturn\u001b[39;00m \u001b[38;5;28mself\u001b[39m\u001b[38;5;241m.\u001b[39m_compiled_call_impl(\u001b[38;5;241m*\u001b[39margs, \u001b[38;5;241m*\u001b[39m\u001b[38;5;241m*\u001b[39mkwargs)  \u001b[38;5;66;03m# type: ignore[misc]\u001b[39;00m\n\u001b[1;32m   1552\u001b[0m \u001b[38;5;28;01melse\u001b[39;00m:\n\u001b[0;32m-> 1553\u001b[0m     \u001b[38;5;28;01mreturn\u001b[39;00m \u001b[38;5;28;43mself\u001b[39;49m\u001b[38;5;241;43m.\u001b[39;49m\u001b[43m_call_impl\u001b[49m\u001b[43m(\u001b[49m\u001b[38;5;241;43m*\u001b[39;49m\u001b[43margs\u001b[49m\u001b[43m,\u001b[49m\u001b[43m \u001b[49m\u001b[38;5;241;43m*\u001b[39;49m\u001b[38;5;241;43m*\u001b[39;49m\u001b[43mkwargs\u001b[49m\u001b[43m)\u001b[49m\n",
      "File \u001b[0;32m~/conda/lib/python3.12/site-packages/torch/nn/modules/module.py:1562\u001b[0m, in \u001b[0;36mModule._call_impl\u001b[0;34m(self, *args, **kwargs)\u001b[0m\n\u001b[1;32m   1557\u001b[0m \u001b[38;5;66;03m# If we don't have any hooks, we want to skip the rest of the logic in\u001b[39;00m\n\u001b[1;32m   1558\u001b[0m \u001b[38;5;66;03m# this function, and just call forward.\u001b[39;00m\n\u001b[1;32m   1559\u001b[0m \u001b[38;5;28;01mif\u001b[39;00m \u001b[38;5;129;01mnot\u001b[39;00m (\u001b[38;5;28mself\u001b[39m\u001b[38;5;241m.\u001b[39m_backward_hooks \u001b[38;5;129;01mor\u001b[39;00m \u001b[38;5;28mself\u001b[39m\u001b[38;5;241m.\u001b[39m_backward_pre_hooks \u001b[38;5;129;01mor\u001b[39;00m \u001b[38;5;28mself\u001b[39m\u001b[38;5;241m.\u001b[39m_forward_hooks \u001b[38;5;129;01mor\u001b[39;00m \u001b[38;5;28mself\u001b[39m\u001b[38;5;241m.\u001b[39m_forward_pre_hooks\n\u001b[1;32m   1560\u001b[0m         \u001b[38;5;129;01mor\u001b[39;00m _global_backward_pre_hooks \u001b[38;5;129;01mor\u001b[39;00m _global_backward_hooks\n\u001b[1;32m   1561\u001b[0m         \u001b[38;5;129;01mor\u001b[39;00m _global_forward_hooks \u001b[38;5;129;01mor\u001b[39;00m _global_forward_pre_hooks):\n\u001b[0;32m-> 1562\u001b[0m     \u001b[38;5;28;01mreturn\u001b[39;00m \u001b[43mforward_call\u001b[49m\u001b[43m(\u001b[49m\u001b[38;5;241;43m*\u001b[39;49m\u001b[43margs\u001b[49m\u001b[43m,\u001b[49m\u001b[43m \u001b[49m\u001b[38;5;241;43m*\u001b[39;49m\u001b[38;5;241;43m*\u001b[39;49m\u001b[43mkwargs\u001b[49m\u001b[43m)\u001b[49m\n\u001b[1;32m   1564\u001b[0m \u001b[38;5;28;01mtry\u001b[39;00m:\n\u001b[1;32m   1565\u001b[0m     result \u001b[38;5;241m=\u001b[39m \u001b[38;5;28;01mNone\u001b[39;00m\n",
      "File \u001b[0;32m~/gitrepo/set_transformer/modules.py:24\u001b[0m, in \u001b[0;36mMAB.forward\u001b[0;34m(self, Q, K)\u001b[0m\n\u001b[1;32m     21\u001b[0m K, V \u001b[38;5;241m=\u001b[39m \u001b[38;5;28mself\u001b[39m\u001b[38;5;241m.\u001b[39mfc_k(K), \u001b[38;5;28mself\u001b[39m\u001b[38;5;241m.\u001b[39mfc_v(K)\n\u001b[1;32m     23\u001b[0m dim_split \u001b[38;5;241m=\u001b[39m \u001b[38;5;28mself\u001b[39m\u001b[38;5;241m.\u001b[39mdim_V \u001b[38;5;241m/\u001b[39m\u001b[38;5;241m/\u001b[39m \u001b[38;5;28mself\u001b[39m\u001b[38;5;241m.\u001b[39mnum_heads\n\u001b[0;32m---> 24\u001b[0m Q_ \u001b[38;5;241m=\u001b[39m torch\u001b[38;5;241m.\u001b[39mcat(\u001b[43mQ\u001b[49m\u001b[38;5;241;43m.\u001b[39;49m\u001b[43msplit\u001b[49m\u001b[43m(\u001b[49m\u001b[43mdim_split\u001b[49m\u001b[43m,\u001b[49m\u001b[43m \u001b[49m\u001b[38;5;241;43m2\u001b[39;49m\u001b[43m)\u001b[49m, \u001b[38;5;241m0\u001b[39m)\n\u001b[1;32m     25\u001b[0m K_ \u001b[38;5;241m=\u001b[39m torch\u001b[38;5;241m.\u001b[39mcat(K\u001b[38;5;241m.\u001b[39msplit(dim_split, \u001b[38;5;241m2\u001b[39m), \u001b[38;5;241m0\u001b[39m)\n\u001b[1;32m     26\u001b[0m V_ \u001b[38;5;241m=\u001b[39m torch\u001b[38;5;241m.\u001b[39mcat(V\u001b[38;5;241m.\u001b[39msplit(dim_split, \u001b[38;5;241m2\u001b[39m), \u001b[38;5;241m0\u001b[39m)\n",
      "File \u001b[0;32m~/conda/lib/python3.12/site-packages/torch/_tensor.py:915\u001b[0m, in \u001b[0;36mTensor.split\u001b[0;34m(self, split_size, dim)\u001b[0m\n\u001b[1;32m    912\u001b[0m         \u001b[38;5;28;01mpass\u001b[39;00m\n\u001b[1;32m    914\u001b[0m \u001b[38;5;28;01mif\u001b[39;00m \u001b[38;5;28misinstance\u001b[39m(split_size, (\u001b[38;5;28mint\u001b[39m, torch\u001b[38;5;241m.\u001b[39mSymInt)):\n\u001b[0;32m--> 915\u001b[0m     \u001b[38;5;28;01mreturn\u001b[39;00m \u001b[43mtorch\u001b[49m\u001b[38;5;241;43m.\u001b[39;49m\u001b[43m_VF\u001b[49m\u001b[38;5;241;43m.\u001b[39;49m\u001b[43msplit\u001b[49m(\u001b[38;5;28mself\u001b[39m, split_size, dim)  \u001b[38;5;66;03m# type: ignore[attr-defined]\u001b[39;00m\n\u001b[1;32m    916\u001b[0m \u001b[38;5;28;01melse\u001b[39;00m:\n\u001b[1;32m    917\u001b[0m     \u001b[38;5;28;01mreturn\u001b[39;00m torch\u001b[38;5;241m.\u001b[39m_VF\u001b[38;5;241m.\u001b[39msplit_with_sizes(\u001b[38;5;28mself\u001b[39m, split_size, dim)\n",
      "File \u001b[0;32m~/conda/lib/python3.12/site-packages/torch/_VF.py:26\u001b[0m, in \u001b[0;36mVFModule.__getattr__\u001b[0;34m(self, attr)\u001b[0m\n\u001b[1;32m     23\u001b[0m     \u001b[38;5;28msuper\u001b[39m()\u001b[38;5;241m.\u001b[39m\u001b[38;5;21m__init__\u001b[39m(name)\n\u001b[1;32m     24\u001b[0m     \u001b[38;5;28mself\u001b[39m\u001b[38;5;241m.\u001b[39mvf \u001b[38;5;241m=\u001b[39m torch\u001b[38;5;241m.\u001b[39m_C\u001b[38;5;241m.\u001b[39m_VariableFunctions\n\u001b[0;32m---> 26\u001b[0m \u001b[38;5;28;01mdef\u001b[39;00m \u001b[38;5;21m__getattr__\u001b[39m(\u001b[38;5;28mself\u001b[39m, attr):\n\u001b[1;32m     27\u001b[0m     \u001b[38;5;28;01mreturn\u001b[39;00m \u001b[38;5;28mgetattr\u001b[39m(\u001b[38;5;28mself\u001b[39m\u001b[38;5;241m.\u001b[39mvf, attr)\n",
      "\u001b[0;31mKeyboardInterrupt\u001b[0m: "
     ]
    }
   ],
   "source": [
    "model = set_transformer()\n",
    "\n",
    "clas_loss_fn = nn.CrossEntropyLoss()\n",
    "reg_loss_fn = nn.MSELoss()\n",
    "optimizer = torch.optim.AdamW(model.parameters(), lr=model_CFG.lr)\n",
    "\n",
    "model = model.to(device=model_CFG.device)\n",
    "train_epochs = []\n",
    "val_epochs = []\n",
    "for epoch in range(model_CFG.n_epochs):\n",
    "    print(f\"Training on {epoch}\")\n",
    "    train_losses = []\n",
    "    train_cl_losses = []\n",
    "    train_rg_losses = []\n",
    "    for i,batch in tqdm(enumerate(train_dataloader),total=len(train_dataloader),desc='Training Loop'):\n",
    "        optimizer.zero_grad()\n",
    "        batch_x = batch['X'][0]\n",
    "        batch_y = batch['y'][0]\n",
    "        \n",
    "        ypred = model(batch_x)\n",
    "        target_classification = torch.tensor(batch_y['valid'],dtype=torch.int64,device=model_CFG.device)\n",
    "        target_ls = [torch.tensor(v,dtype=torch.float32) for k,v in batch_y.items() if k!='valid']\n",
    "        target_regression = torch.tensor(target_ls,device=model_CFG.device)\n",
    "        \n",
    "        classification_loss = clas_loss_fn(ypred[:2],target_classification)\n",
    "        reggression_loss = reg_loss_fn(ypred[2:],target_regression)\n",
    "        \n",
    "\n",
    "        \n",
    "        total_loss = model_CFG.regression_weight * reggression_loss + classification_loss\n",
    "        # print(classification_loss,reggression_loss,total_loss)\n",
    "        \n",
    "        total_loss.backward()\n",
    "        optimizer.step()\n",
    "        \n",
    "        total_loss = total_loss.detach().cpu()\n",
    "        classification_loss = classification_loss.detach().cpu()\n",
    "        reggression_loss = reggression_loss.detach().cpu()\n",
    "        train_losses.append(total_loss)\n",
    "        train_cl_losses.append(classification_loss)\n",
    "        train_rg_losses.append(reggression_loss)\n",
    "    train_epochs.append((train_losses,train_cl_losses,train_rg_losses))\n",
    "    print('Evaluation:-')\n",
    "    val_losses = []\n",
    "    val_cl_losses = []\n",
    "    val_rg_losses = []\n",
    "    for i,batch in tqdm(enumerate(val_dataloader),total=len(val_dataloader),desc='Training Loop'):\n",
    "\n",
    "        target_classification = torch.tensor(batch_y['valid'],dtype=torch.int64)\n",
    "        target_ls = [torch.tensor(v,dtype=torch.float32) for k,v in batch_y.items() if k!='valid']\n",
    "        target_regression = torch.tensor(target_ls,device=model_CFG.device)\n",
    "        \n",
    "        batch_x = batch['X'][0]\n",
    "        batch_y = batch['y'][0]\n",
    "        \n",
    "        with torch.no_grad():\n",
    "            ypred = model(batch_x)\n",
    "        \n",
    "            classification_loss = clas_loss_fn(ypred[:2],target_classification)\n",
    "            reggression_loss = reg_loss_fn(ypred[2:],target_regression)\n",
    "        \n",
    "            total_loss = model_CFG.regression_weight * reggression_loss + classification_loss\n",
    "            #    print(classification_loss,reggression_loss,total_loss)\n",
    "        \n",
    "            total_loss = total_loss.detach().cpu()\n",
    "            classification_loss = classification_loss.detach().cpu()\n",
    "            reggression_loss = reggression_loss.detach().cpu()\n",
    "            val_losses.append(total_loss)\n",
    "            val_cl_losses.append(classification_loss)\n",
    "            val_rg_losses.append(reggression_loss)\n",
    "        # break\n",
    "    val_epochs.append((val_losses,val_cl_losses,val_rg_losses))\n",
    "    "
   ]
  },
  {
   "cell_type": "code",
   "execution_count": 28,
   "metadata": {},
   "outputs": [
    {
     "ename": "IndexError",
     "evalue": "list index out of range",
     "output_type": "error",
     "traceback": [
      "\u001b[0;31m---------------------------------------------------------------------------\u001b[0m",
      "\u001b[0;31mIndexError\u001b[0m                                Traceback (most recent call last)",
      "Cell \u001b[0;32mIn[28], line 1\u001b[0m\n\u001b[0;32m----> 1\u001b[0m \u001b[38;5;28mprint\u001b[39m(\u001b[43mrg_losses\u001b[49m\u001b[43m[\u001b[49m\u001b[38;5;241;43m-\u001b[39;49m\u001b[38;5;241;43m1\u001b[39;49m\u001b[43m]\u001b[49m)\n",
      "\u001b[0;31mIndexError\u001b[0m: list index out of range"
     ]
    }
   ],
   "source": [
    "print(rg_losses[-1])"
   ]
  },
  {
   "cell_type": "code",
   "execution_count": 67,
   "metadata": {},
   "outputs": [
    {
     "data": {
      "text/plain": [
       "(5143, tensor(8.4839e+15))"
      ]
     },
     "execution_count": 67,
     "metadata": {},
     "output_type": "execute_result"
    }
   ],
   "source": [
    "max(enumerate(rg_losses),key=lambda x:x[1])"
   ]
  },
  {
   "cell_type": "code",
   "execution_count": 68,
   "metadata": {},
   "outputs": [
    {
     "data": {
      "text/plain": [
       "{'X': {'design': {'__PARA__L0': 1,\n",
       "   '__PARA__L1': 1,\n",
       "   '__PARA__L2': 32,\n",
       "   '__PIPE__L0': 'off',\n",
       "   '__PIPE__L1': 'off',\n",
       "   '__TILE__L0': 1,\n",
       "   '__TILE__L1': 8},\n",
       "  'version': 'v18',\n",
       "  'graph': <networkx.classes.digraph.DiGraph at 0x72da448a98b0>,\n",
       "  'kernel_name': 'seidel-2d',\n",
       "  'src_code': '#pragma ACCEL kernel\\n\\nvoid kernel_seidel_2d(int tsteps,int n,double A[120][120])\\n{\\n  int t;\\n  int i;\\n  int j;\\n//#pragma scop\\n  \\n#pragma ACCEL PIPELINE auto{__PIPE__L0}\\n  \\n#pragma ACCEL TILE FACTOR=auto{__TILE__L0}\\n  \\n#pragma ACCEL PARALLEL FACTOR=auto{__PARA__L0}\\n  for (t = 0; t <= 39; t++) {\\n    \\n#pragma ACCEL PIPELINE auto{__PIPE__L1}\\n    \\n#pragma ACCEL TILE FACTOR=auto{__TILE__L1}\\n    \\n#pragma ACCEL PARALLEL FACTOR=auto{__PARA__L1}\\n    for (i = 1; i <= 118; i++) {\\n      \\n#pragma ACCEL PARALLEL FACTOR=auto{__PARA__L2}\\n      for (j = 1; j <= 118; j++) {\\n        A[i][j] = (A[i - 1][j - 1] + A[i - 1][j] + A[i - 1][j + 1] + A[i][j - 1] + A[i][j] + A[i][j + 1] + A[i + 1][j - 1] + A[i + 1][j] + A[i + 1][j + 1]) / 9.0;\\n      }\\n    }\\n  }\\n//#pragma endscop\\n}\\n'},\n",
       " 'y': {'valid': False,\n",
       "  'perf': 0.0,\n",
       "  'util-BRAM': 0,\n",
       "  'util-LUT': 0,\n",
       "  'util-FF': 0,\n",
       "  'util-DSP': 0}}"
      ]
     },
     "execution_count": 68,
     "metadata": {},
     "output_type": "execute_result"
    }
   ],
   "source": [
    "train_ds[5143]"
   ]
  },
  {
   "cell_type": "code",
   "execution_count": null,
   "metadata": {},
   "outputs": [],
   "source": []
  },
  {
   "cell_type": "code",
   "execution_count": 70,
   "metadata": {},
   "outputs": [
    {
     "data": {
      "text/plain": [
       "[<matplotlib.lines.Line2D at 0x72d97002f530>]"
      ]
     },
     "execution_count": 70,
     "metadata": {},
     "output_type": "execute_result"
    },
    {
     "data": {
      "image/png": "[encoded data removed]",
      "text/plain": [
       "<Figure size 640x480 with 1 Axes>"
      ]
     },
     "metadata": {},
     "output_type": "display_data"
    }
   ],
   "source": [
    "\n",
    "plt.plot(range(len(cl_losses)),cl_losses,color='g')\n",
    "# plt.plot(range(len(rg_losses)),rg_losses,color='r')\n",
    "\n",
    "# plt.ylim([0,100])"
   ]
  },
  {
   "cell_type": "code",
   "execution_count": null,
   "metadata": {},
   "outputs": [],
   "source": []
  }
 ],
 "metadata": {
  "kernelspec": {
   "display_name": "base",
   "language": "python",
   "name": "python3"
  },
  "language_info": {
   "codemirror_mode": {
    "name": "ipython",
    "version": 3
   },
   "file_extension": ".py",
   "mimetype": "text/x-python",
   "name": "python",
   "nbconvert_exporter": "python",
   "pygments_lexer": "ipython3",
   "version": "3.12.4"
  }
 },
 "nbformat": 4,
 "nbformat_minor": 2
}
